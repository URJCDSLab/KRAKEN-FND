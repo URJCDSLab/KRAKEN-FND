{
 "cells": [
  {
   "cell_type": "code",
   "execution_count": 1,
   "metadata": {},
   "outputs": [],
   "source": [
    "import os\n",
    "import random\n",
    "from operator import itemgetter\n",
    "\n",
    "from fastai.vision.all import *\n",
    "import pandas as pd\n",
    "from sklearn.model_selection import train_test_split\n",
    "from sklearn.metrics import accuracy_score\n",
    "from torch.utils.data import Dataset, DataLoader\n",
    "from transformers import BertForSequenceClassification, BertPreTrainedModel, BertTokenizerFast, AdamW, BertConfig, get_linear_schedule_with_warmup"
   ]
  },
  {
   "cell_type": "code",
   "execution_count": null,
   "metadata": {},
   "outputs": [],
   "source": []
  },
  {
   "cell_type": "code",
   "execution_count": 2,
   "metadata": {},
   "outputs": [],
   "source": [
    "DATA_PATH = '../data'\n",
    "IMAGES_PATH = '../data/images'\n",
    "AC_DATA_PATH = 'animal_crossing'\n",
    "DOOM_DATA_PATH = 'doom'"
   ]
  },
  {
   "cell_type": "code",
   "execution_count": 5,
   "metadata": {},
   "outputs": [],
   "source": [
    "ac_images_files = os.listdir(os.path.join(IMAGES_PATH, AC_DATA_PATH))\n",
    "doom_images_files = os.listdir(os.path.join(IMAGES_PATH, DOOM_DATA_PATH))\n",
    "ac_text_data = pd.read_csv(os.path.join(DATA_PATH, 'animal_crossing_dataset.csv'))\n",
    "doom_text_data = pd.read_csv(os.path.join(DATA_PATH, 'doom_dataset.csv'))\n",
    "\n",
    "paths = (\n",
    "    [os.path.join(AC_DATA_PATH, p) for p in ac_images_files] +\n",
    "    [os.path.join(DOOM_DATA_PATH, p) for p in doom_images_files] \n",
    ")\n",
    "\n",
    "df = pd.DataFrame({\n",
    "    'filename': ac_images_files + doom_images_files,\n",
    "    'path': paths,\n",
    "    'ac': [True] * len(ac_images_files) + ([False] * len(doom_images_files)),\n",
    "    'doom': [False] * len(ac_images_files) + ([True] * len(doom_images_files)),\n",
    "})\n",
    "df = df.join(pd.concat([ac_text_data, doom_text_data])[['filename', 'title']].set_index('filename'), on='filename')\n",
    "\n",
    "tokenizer = BertTokenizerFast.from_pretrained('bert-base-uncased')"
   ]
  },
  {
   "cell_type": "markdown",
   "metadata": {},
   "source": [
    "# Aux"
   ]
  },
  {
   "cell_type": "code",
   "execution_count": 6,
   "metadata": {},
   "outputs": [],
   "source": [
    "def get_sets(df_train, df_test=None):\n",
    "    if df_test is not None:\n",
    "        return df_train[['path', 'ac', 'doom']], df_test[['path', 'ac', 'doom']], df_train[['title', 'ac', 'doom']], df_test[['title', 'ac', 'doom']]\n",
    "    else:\n",
    "        return df_train[['path', 'ac', 'doom']], df_train[['title', 'ac', 'doom']]"
   ]
  },
  {
   "cell_type": "code",
   "execution_count": 7,
   "metadata": {},
   "outputs": [],
   "source": [
    "class TextDataset(Dataset):\n",
    "    def __init__(self, data, label_column, labeled=True):\n",
    "        self.data_ = data[['title', label_column]].copy().reset_index()\n",
    "        self.label_column = label_column\n",
    "        self.labeled =  labeled\n",
    "            \n",
    "    def __len__(self):\n",
    "        return self.data_.shape[0]\n",
    "    \n",
    "    def __getitem__(self, idx):\n",
    "        inputs = tokenizer.encode_plus(\n",
    "            str(self.data_.loc[idx]['title']),\n",
    "            None,\n",
    "            add_special_tokens=True,\n",
    "            max_length=256,\n",
    "            pad_to_max_length=True,\n",
    "            return_token_type_ids=True\n",
    "        )\n",
    "        if self.labeled:\n",
    "            return {\n",
    "                'input_ids': torch.tensor(inputs['input_ids'], dtype=torch.long),\n",
    "                'attention_mask': torch.tensor(inputs['attention_mask'], dtype=torch.long),\n",
    "                'token_type_ids': torch.tensor(inputs[\"token_type_ids\"], dtype=torch.long), \n",
    "                'labels': torch.tensor(self.data_.loc[idx][self.label_column], dtype=torch.long)\n",
    "            }\n",
    "        \n",
    "        else:\n",
    "            return {\n",
    "                'input_ids': torch.tensor(inputs['input_ids'], dtype=torch.long),\n",
    "                'attention_mask': torch.tensor(inputs['attention_mask'], dtype=torch.long),\n",
    "                'token_type_ids': torch.tensor(inputs[\"token_type_ids\"], dtype=torch.long)\n",
    "            }"
   ]
  },
  {
   "cell_type": "code",
   "execution_count": 8,
   "metadata": {},
   "outputs": [],
   "source": [
    "device = torch.device(\"cpu\")\n",
    "\n",
    "def train_model(text_train, label_colum):\n",
    "    batch_size = 16\n",
    "    seed_val = 42\n",
    "    epochs = 4\n",
    "\n",
    "    random.seed(seed_val)\n",
    "    np.random.seed(seed_val)\n",
    "    torch.manual_seed(seed_val)\n",
    "    torch.cuda.manual_seed_all(seed_val)\n",
    "\n",
    "    train_dataloader = DataLoader(\n",
    "        TextDataset(text_train, label_colum),\n",
    "        batch_size = batch_size \n",
    "    )\n",
    "\n",
    "    total_steps = len(train_dataloader) * epochs\n",
    "\n",
    "    model = BertForSequenceClassification.from_pretrained(\n",
    "        \"bert-base-uncased\", \n",
    "        num_labels = 2\n",
    "    )\n",
    "\n",
    "    optimizer = AdamW(\n",
    "        model.parameters(),\n",
    "        lr = 2e-5, # args.learning_rate - default is 5e-5, our notebook had 2e-5\n",
    "        eps = 1e-8 # args.adam_epsilon  - default is 1e-8.\n",
    "    )\n",
    "\n",
    "    scheduler = get_linear_schedule_with_warmup(optimizer, \n",
    "                                                num_warmup_steps = 0,\n",
    "                                                num_training_steps = total_steps)\n",
    "\n",
    "    for epoch_i in range(0, epochs):\n",
    "        print(\"\")\n",
    "        print('======== Epoch {:} / {:} ========'.format(epoch_i + 1, epochs))\n",
    "        print('Training...')\n",
    "\n",
    "        total_train_loss = 0\n",
    "        model.train()\n",
    "\n",
    "        for step, batch in enumerate(train_dataloader):\n",
    "            model.zero_grad()        \n",
    "            loss, logits, *_ = model(\n",
    "                batch['input_ids'].to(device),\n",
    "                attention_mask=batch['attention_mask'].to(device),\n",
    "                token_type_ids=None,\n",
    "                labels=batch['labels'].to(device)\n",
    "            )\n",
    "            total_train_loss += loss.item()\n",
    "\n",
    "            loss.backward()\n",
    "            torch.nn.utils.clip_grad_norm_(model.parameters(), 1.0)\n",
    "\n",
    "            optimizer.step()\n",
    "\n",
    "            scheduler.step()\n",
    "\n",
    "        avg_train_loss = total_train_loss / len(train_dataloader)            \n",
    "\n",
    "        print(\"\")\n",
    "        print(\"  Average training loss: {0:.2f}\".format(avg_train_loss))\n",
    "        model.eval()\n",
    "\n",
    "    print(\"\")\n",
    "    print(\"Training complete!\")\n",
    "    \n",
    "    return model"
   ]
  },
  {
   "cell_type": "code",
   "execution_count": null,
   "metadata": {},
   "outputs": [],
   "source": []
  },
  {
   "cell_type": "code",
   "execution_count": 9,
   "metadata": {},
   "outputs": [
    {
     "data": {
      "text/plain": [
       "43"
      ]
     },
     "execution_count": 9,
     "metadata": {},
     "output_type": "execute_result"
    }
   ],
   "source": [
    "df, df_test = train_test_split(df, test_size=100)\n",
    "df_test['ac'].sum()"
   ]
  },
  {
   "cell_type": "code",
   "execution_count": null,
   "metadata": {},
   "outputs": [],
   "source": []
  },
  {
   "cell_type": "markdown",
   "metadata": {},
   "source": [
    "# N=50"
   ]
  },
  {
   "cell_type": "code",
   "execution_count": 10,
   "metadata": {},
   "outputs": [
    {
     "name": "stderr",
     "output_type": "stream",
     "text": [
      "/home/cegf/.virtualenvs/new_aka_sl/lib/python3.6/site-packages/pandas/core/indexing.py:1765: SettingWithCopyWarning: \n",
      "A value is trying to be set on a copy of a slice from a DataFrame.\n",
      "Try using .loc[row_indexer,col_indexer] = value instead\n",
      "\n",
      "See the caveats in the documentation: https://pandas.pydata.org/pandas-docs/stable/user_guide/indexing.html#returning-a-view-versus-a-copy\n",
      "  isetter(loc, value)\n"
     ]
    }
   ],
   "source": [
    "df_train, df_val = train_test_split(df, train_size=50)\n",
    "df_val.loc[:, ['ac', 'doom']] = None"
   ]
  },
  {
   "cell_type": "code",
   "execution_count": null,
   "metadata": {},
   "outputs": [],
   "source": []
  },
  {
   "cell_type": "code",
   "execution_count": null,
   "metadata": {},
   "outputs": [],
   "source": []
  },
  {
   "cell_type": "code",
   "execution_count": null,
   "metadata": {},
   "outputs": [],
   "source": []
  },
  {
   "cell_type": "code",
   "execution_count": null,
   "metadata": {},
   "outputs": [],
   "source": []
  },
  {
   "cell_type": "code",
   "execution_count": null,
   "metadata": {},
   "outputs": [],
   "source": []
  },
  {
   "cell_type": "code",
   "execution_count": 24,
   "metadata": {},
   "outputs": [],
   "source": [
    "def train_all_models(images_train, text_train):\n",
    "    data_image_ac = ImageDataLoaders.from_df(images_train, fn_col='path', label_col='ac', item_tfms=Resize(224), bs=32, folder=IMAGES_PATH)\n",
    "    learn_image_ac = cnn_learner(data_image_ac, resnet34, metrics=error_rate)\n",
    "    learn_image_ac.fine_tune(5)\n",
    "    data_image_doom = ImageDataLoaders.from_df(images_train, fn_col='path', label_col='doom', item_tfms=Resize(224), bs=32, folder=IMAGES_PATH)\n",
    "    learn_image_doom = cnn_learner(data_image_doom, resnet34, metrics=error_rate)\n",
    "    learn_image_doom.fine_tune(5)\n",
    "    model_text_ac = train_model(text_train, 'ac')\n",
    "    model_text_doom = train_model(text_train, 'doom')\n",
    "    \n",
    "    return learn_image_ac, learn_image_doom, model_text_ac, model_text_doom\n",
    "\n",
    "def test_models(df_test, learn_image_ac, learn_image_doom, model_text_ac, model_text_doom):\n",
    "    i_a_r = df_test['path'].apply(lambda p: os.path.join(IMAGES_PATH, p)).apply(learn_image_ac.predict).apply(itemgetter(0)).apply(lambda s: s=='True')\n",
    "    i_d_r = df_test['path'].apply(lambda p: os.path.join(IMAGES_PATH, p)).apply(learn_image_doom.predict).apply(itemgetter(0)).apply(lambda s: s=='True')\n",
    "#     with torch.no_grad():\n",
    "#         test_dataset = TextDataset(df_test, 'ac')\n",
    "#         test_dataloader = DataLoader(\n",
    "#             TextDataset(df_test, 'ac'),\n",
    "#             batch_size=len(test_dataset) \n",
    "#         )\n",
    "#         batch = list(test_dataloader)[0]\n",
    "#         out_ = model_text_ac(\n",
    "#             batch['input_ids'].to(device),\n",
    "#             attention_mask=batch['attention_mask'].to(device),\n",
    "#             token_type_ids=None\n",
    "#         )\n",
    "#         t_a_r = out_[0].numpy().argmax(axis=1) == batch['labels'].numpy()\n",
    "#         test_dataset = TextDataset(df_test, 'doom')\n",
    "#         test_dataloader = DataLoader(\n",
    "#             TextDataset(df_test, 'ac'),\n",
    "#             batch_size=len(test_dataset) \n",
    "#         )\n",
    "#         batch = list(test_dataloader)[0]\n",
    "#         out_ = model_text_doom(\n",
    "#             batch['input_ids'].to(device),\n",
    "#             attention_mask=batch['attention_mask'].to(device),\n",
    "#             token_type_ids=None\n",
    "#         )\n",
    "#         t_d_r = out_[0].numpy().argmax(axis=1) == batch['labels'].numpy()\n",
    "        \n",
    "    return i_a_r, i_d_r\n",
    "    \n",
    "def calculate_acc(df_test, i_a_r, i_d_r, t_a_r, t_d_r):\n",
    "    return np.array([\n",
    "        accuracy_score(df_test['ac'],  i_a_r), \n",
    "        accuracy_score(df_test['doom'],  i_d_r),\n",
    "        accuracy_score(df_test['ac'],  t_a_r),\n",
    "        accuracy_score(df_test['doom'],  t_d_r)\n",
    "    ])\n",
    "    \n",
    "def print_acc(df_test, i_a_r, i_d_r, t_a_r, t_d_r):\n",
    "    a = calculate_acc(df_test, i_a_r, i_d_r, t_a_r, t_d_r)\n",
    "    print(f'Image AC: {a[0]}')\n",
    "    print(f'Image DOOM: {a[1]}')\n",
    "    print(f'Text AC: {a[2]}')\n",
    "    print(f'Text DOOM: {a[3]}')"
   ]
  },
  {
   "cell_type": "code",
   "execution_count": 8,
   "metadata": {},
   "outputs": [
    {
     "ename": "NameError",
     "evalue": "name 'images_train' is not defined",
     "output_type": "error",
     "traceback": [
      "\u001b[0;31m---------------------------------------------------------------------------\u001b[0m",
      "\u001b[0;31mNameError\u001b[0m                                 Traceback (most recent call last)",
      "\u001b[0;32m<ipython-input-8-2bc9a9fdbeb2>\u001b[0m in \u001b[0;36m<module>\u001b[0;34m\u001b[0m\n\u001b[0;32m----> 1\u001b[0;31m \u001b[0mmodels\u001b[0m \u001b[0;34m=\u001b[0m \u001b[0mtrain_all_models\u001b[0m\u001b[0;34m(\u001b[0m\u001b[0mimages_train\u001b[0m\u001b[0;34m,\u001b[0m \u001b[0mtext_train\u001b[0m\u001b[0;34m)\u001b[0m\u001b[0;34m\u001b[0m\u001b[0;34m\u001b[0m\u001b[0m\n\u001b[0m\u001b[1;32m      2\u001b[0m \u001b[0mr\u001b[0m \u001b[0;34m=\u001b[0m \u001b[0mtest_models\u001b[0m\u001b[0;34m(\u001b[0m\u001b[0mdf_test\u001b[0m\u001b[0;34m,\u001b[0m \u001b[0;34m*\u001b[0m\u001b[0mmodels\u001b[0m\u001b[0;34m)\u001b[0m\u001b[0;34m\u001b[0m\u001b[0;34m\u001b[0m\u001b[0m\n",
      "\u001b[0;31mNameError\u001b[0m: name 'images_train' is not defined"
     ]
    }
   ],
   "source": [
    "models = train_all_models(images_train, text_train)\n",
    "r = test_models(df_test, *models)"
   ]
  },
  {
   "cell_type": "code",
   "execution_count": 9,
   "metadata": {},
   "outputs": [
    {
     "ename": "NameError",
     "evalue": "name 'r' is not defined",
     "output_type": "error",
     "traceback": [
      "\u001b[0;31m---------------------------------------------------------------------------\u001b[0m",
      "\u001b[0;31mNameError\u001b[0m                                 Traceback (most recent call last)",
      "\u001b[0;32m<ipython-input-9-dfcb3f5882b2>\u001b[0m in \u001b[0;36m<module>\u001b[0;34m\u001b[0m\n\u001b[0;32m----> 1\u001b[0;31m \u001b[0mprint_acc\u001b[0m\u001b[0;34m(\u001b[0m\u001b[0mdf_test\u001b[0m\u001b[0;34m,\u001b[0m \u001b[0;34m*\u001b[0m\u001b[0mr\u001b[0m\u001b[0;34m)\u001b[0m\u001b[0;34m\u001b[0m\u001b[0;34m\u001b[0m\u001b[0m\n\u001b[0m",
      "\u001b[0;31mNameError\u001b[0m: name 'r' is not defined"
     ]
    }
   ],
   "source": [
    "print_acc(df_test, *r)"
   ]
  },
  {
   "cell_type": "code",
   "execution_count": null,
   "metadata": {},
   "outputs": [],
   "source": []
  },
  {
   "cell_type": "code",
   "execution_count": 12,
   "metadata": {},
   "outputs": [],
   "source": [
    "aux = None\n",
    "result = None\n",
    "def asdf(models, i, df_val, N=10):\n",
    "    aux = df_val.iloc[:N].copy()\n",
    "    images_test, text_test = get_sets(aux)\n",
    "    result = None\n",
    "    if i in [0, 1]:\n",
    "        result = images_test['path'].apply(lambda p: os.path.join(IMAGES_PATH, p)).apply(models[i].predict).apply(itemgetter(0)).apply(bool)\n",
    "    else:\n",
    "        label = 'ac' if i == 2 else 'doom'\n",
    "        with torch.no_grad():\n",
    "            test_dataset = TextDataset(text_test, 'ac', labeled=False)\n",
    "            test_dataloader = DataLoader(\n",
    "                test_dataset,\n",
    "                batch_size=len(test_dataset) \n",
    "            )\n",
    "            batch = list(test_dataloader)[0]\n",
    "            out_ = models[i](\n",
    "                batch['input_ids'].to(device),\n",
    "                attention_mask=batch['attention_mask'].to(device),\n",
    "                token_type_ids=None\n",
    "            )\n",
    "            result = out_[0].numpy().argmax(axis=1)\n",
    "            result = pd.Series(result, aux.index).apply(bool)\n",
    "    if i in [0, 2]:\n",
    "        aux['ac'] = result\n",
    "        aux['doom'] = -result\n",
    "    else:\n",
    "        aux['ac'] = -result\n",
    "        aux['doom'] = result\n",
    "        \n",
    "    return aux"
   ]
  },
  {
   "cell_type": "code",
   "execution_count": null,
   "metadata": {},
   "outputs": [],
   "source": []
  },
  {
   "cell_type": "code",
   "execution_count": null,
   "metadata": {},
   "outputs": [],
   "source": []
  },
  {
   "cell_type": "code",
   "execution_count": 64,
   "metadata": {},
   "outputs": [
    {
     "name": "stderr",
     "output_type": "stream",
     "text": [
      "/home/cegf/.virtualenvs/new_aka_sl/lib/python3.6/site-packages/pandas/core/indexing.py:1765: SettingWithCopyWarning: \n",
      "A value is trying to be set on a copy of a slice from a DataFrame.\n",
      "Try using .loc[row_indexer,col_indexer] = value instead\n",
      "\n",
      "See the caveats in the documentation: https://pandas.pydata.org/pandas-docs/stable/user_guide/indexing.html#returning-a-view-versus-a-copy\n",
      "  isetter(loc, value)\n"
     ]
    }
   ],
   "source": [
    "df_train, df_val = train_test_split(df, train_size=50)\n",
    "df_val.loc[:, ['ac', 'doom']] = None"
   ]
  },
  {
   "cell_type": "code",
   "execution_count": null,
   "metadata": {},
   "outputs": [],
   "source": [
    "results = []\n",
    "for i in range(3):\n",
    "    images_train, images_test, text_train, text_test = get_sets(df_train, df_val)\n",
    "    models = train_all_models(images_train, text_train)\n",
    "    r = test_models(df_test, *models)\n",
    "    results.append(r)\n",
    "    print(f'------{i}--------')\n",
    "    print_acc(df_test, *r)\n",
    "    j = np.argmax(calculate_acc(df_test, *r))\n",
    "    aux = asdf(models, j, df_val, N=20)\n",
    "    df_val = df_val.drop(index=aux.index)\n",
    "    df_train = pd.concat([df_train, aux])"
   ]
  },
  {
   "cell_type": "code",
   "execution_count": 21,
   "metadata": {},
   "outputs": [
    {
     "data": {
      "text/html": [
       "<table border=\"1\" class=\"dataframe\">\n",
       "  <thead>\n",
       "    <tr style=\"text-align: left;\">\n",
       "      <th>epoch</th>\n",
       "      <th>train_loss</th>\n",
       "      <th>valid_loss</th>\n",
       "      <th>error_rate</th>\n",
       "      <th>time</th>\n",
       "    </tr>\n",
       "  </thead>\n",
       "  <tbody>\n",
       "    <tr>\n",
       "      <td>0</td>\n",
       "      <td>1.012128</td>\n",
       "      <td>2.470128</td>\n",
       "      <td>0.300000</td>\n",
       "      <td>00:04</td>\n",
       "    </tr>\n",
       "  </tbody>\n",
       "</table>"
      ],
      "text/plain": [
       "<IPython.core.display.HTML object>"
      ]
     },
     "metadata": {},
     "output_type": "display_data"
    },
    {
     "data": {
      "text/html": [
       "<table border=\"1\" class=\"dataframe\">\n",
       "  <thead>\n",
       "    <tr style=\"text-align: left;\">\n",
       "      <th>epoch</th>\n",
       "      <th>train_loss</th>\n",
       "      <th>valid_loss</th>\n",
       "      <th>error_rate</th>\n",
       "      <th>time</th>\n",
       "    </tr>\n",
       "  </thead>\n",
       "  <tbody>\n",
       "    <tr>\n",
       "      <td>0</td>\n",
       "      <td>1.211160</td>\n",
       "      <td>1.853721</td>\n",
       "      <td>0.300000</td>\n",
       "      <td>00:05</td>\n",
       "    </tr>\n",
       "    <tr>\n",
       "      <td>1</td>\n",
       "      <td>1.221621</td>\n",
       "      <td>1.136309</td>\n",
       "      <td>0.300000</td>\n",
       "      <td>00:05</td>\n",
       "    </tr>\n",
       "    <tr>\n",
       "      <td>2</td>\n",
       "      <td>1.024909</td>\n",
       "      <td>0.599336</td>\n",
       "      <td>0.300000</td>\n",
       "      <td>00:05</td>\n",
       "    </tr>\n",
       "    <tr>\n",
       "      <td>3</td>\n",
       "      <td>0.842146</td>\n",
       "      <td>0.332750</td>\n",
       "      <td>0.100000</td>\n",
       "      <td>00:05</td>\n",
       "    </tr>\n",
       "    <tr>\n",
       "      <td>4</td>\n",
       "      <td>0.703279</td>\n",
       "      <td>0.306527</td>\n",
       "      <td>0.000000</td>\n",
       "      <td>00:05</td>\n",
       "    </tr>\n",
       "  </tbody>\n",
       "</table>"
      ],
      "text/plain": [
       "<IPython.core.display.HTML object>"
      ]
     },
     "metadata": {},
     "output_type": "display_data"
    }
   ],
   "source": [
    "df_train, df_val = train_test_split(df, train_size=500)\n",
    "data_image_ac = ImageDataLoaders.from_df(images_train, fn_col='path', label_col='ac', item_tfms=Resize(224), bs=32, folder=IMAGES_PATH)\n",
    "learn_image_ac = cnn_learner(data_image_ac, resnet34, metrics=error_rate)\n",
    "learn_image_ac.fine_tune(5)\n",
    "data_image_doom = ImageDataLoaders.from_df(images_train, fn_col='path', label_col='doom', item_tfms=Resize(224), bs=32, folder=IMAGES_PATH)\n",
    "learn_image_doom = cnn_learner(data_image_doom, resnet34, metrics=error_rate)"
   ]
  },
  {
   "cell_type": "code",
   "execution_count": 83,
   "metadata": {},
   "outputs": [
    {
     "data": {
      "text/html": [],
      "text/plain": [
       "<IPython.core.display.HTML object>"
      ]
     },
     "metadata": {},
     "output_type": "display_data"
    },
    {
     "data": {
      "text/html": [],
      "text/plain": [
       "<IPython.core.display.HTML object>"
      ]
     },
     "metadata": {},
     "output_type": "display_data"
    },
    {
     "data": {
      "text/html": [],
      "text/plain": [
       "<IPython.core.display.HTML object>"
      ]
     },
     "metadata": {},
     "output_type": "display_data"
    },
    {
     "data": {
      "text/html": [],
      "text/plain": [
       "<IPython.core.display.HTML object>"
      ]
     },
     "metadata": {},
     "output_type": "display_data"
    },
    {
     "data": {
      "text/html": [],
      "text/plain": [
       "<IPython.core.display.HTML object>"
      ]
     },
     "metadata": {},
     "output_type": "display_data"
    },
    {
     "data": {
      "text/html": [],
      "text/plain": [
       "<IPython.core.display.HTML object>"
      ]
     },
     "metadata": {},
     "output_type": "display_data"
    },
    {
     "data": {
      "text/html": [],
      "text/plain": [
       "<IPython.core.display.HTML object>"
      ]
     },
     "metadata": {},
     "output_type": "display_data"
    },
    {
     "data": {
      "text/html": [],
      "text/plain": [
       "<IPython.core.display.HTML object>"
      ]
     },
     "metadata": {},
     "output_type": "display_data"
    },
    {
     "data": {
      "text/html": [],
      "text/plain": [
       "<IPython.core.display.HTML object>"
      ]
     },
     "metadata": {},
     "output_type": "display_data"
    },
    {
     "data": {
      "text/html": [],
      "text/plain": [
       "<IPython.core.display.HTML object>"
      ]
     },
     "metadata": {},
     "output_type": "display_data"
    },
    {
     "data": {
      "text/html": [],
      "text/plain": [
       "<IPython.core.display.HTML object>"
      ]
     },
     "metadata": {},
     "output_type": "display_data"
    },
    {
     "data": {
      "text/html": [],
      "text/plain": [
       "<IPython.core.display.HTML object>"
      ]
     },
     "metadata": {},
     "output_type": "display_data"
    },
    {
     "data": {
      "text/html": [],
      "text/plain": [
       "<IPython.core.display.HTML object>"
      ]
     },
     "metadata": {},
     "output_type": "display_data"
    },
    {
     "data": {
      "text/html": [],
      "text/plain": [
       "<IPython.core.display.HTML object>"
      ]
     },
     "metadata": {},
     "output_type": "display_data"
    },
    {
     "data": {
      "text/html": [],
      "text/plain": [
       "<IPython.core.display.HTML object>"
      ]
     },
     "metadata": {},
     "output_type": "display_data"
    },
    {
     "data": {
      "text/html": [],
      "text/plain": [
       "<IPython.core.display.HTML object>"
      ]
     },
     "metadata": {},
     "output_type": "display_data"
    },
    {
     "data": {
      "text/html": [],
      "text/plain": [
       "<IPython.core.display.HTML object>"
      ]
     },
     "metadata": {},
     "output_type": "display_data"
    },
    {
     "data": {
      "text/html": [],
      "text/plain": [
       "<IPython.core.display.HTML object>"
      ]
     },
     "metadata": {},
     "output_type": "display_data"
    },
    {
     "data": {
      "text/html": [],
      "text/plain": [
       "<IPython.core.display.HTML object>"
      ]
     },
     "metadata": {},
     "output_type": "display_data"
    },
    {
     "data": {
      "text/html": [],
      "text/plain": [
       "<IPython.core.display.HTML object>"
      ]
     },
     "metadata": {},
     "output_type": "display_data"
    },
    {
     "data": {
      "text/html": [],
      "text/plain": [
       "<IPython.core.display.HTML object>"
      ]
     },
     "metadata": {},
     "output_type": "display_data"
    },
    {
     "data": {
      "text/html": [],
      "text/plain": [
       "<IPython.core.display.HTML object>"
      ]
     },
     "metadata": {},
     "output_type": "display_data"
    },
    {
     "data": {
      "text/html": [],
      "text/plain": [
       "<IPython.core.display.HTML object>"
      ]
     },
     "metadata": {},
     "output_type": "display_data"
    },
    {
     "data": {
      "text/html": [],
      "text/plain": [
       "<IPython.core.display.HTML object>"
      ]
     },
     "metadata": {},
     "output_type": "display_data"
    },
    {
     "data": {
      "text/html": [],
      "text/plain": [
       "<IPython.core.display.HTML object>"
      ]
     },
     "metadata": {},
     "output_type": "display_data"
    },
    {
     "data": {
      "text/html": [],
      "text/plain": [
       "<IPython.core.display.HTML object>"
      ]
     },
     "metadata": {},
     "output_type": "display_data"
    },
    {
     "data": {
      "text/html": [],
      "text/plain": [
       "<IPython.core.display.HTML object>"
      ]
     },
     "metadata": {},
     "output_type": "display_data"
    },
    {
     "data": {
      "text/html": [],
      "text/plain": [
       "<IPython.core.display.HTML object>"
      ]
     },
     "metadata": {},
     "output_type": "display_data"
    },
    {
     "data": {
      "text/html": [],
      "text/plain": [
       "<IPython.core.display.HTML object>"
      ]
     },
     "metadata": {},
     "output_type": "display_data"
    },
    {
     "data": {
      "text/html": [],
      "text/plain": [
       "<IPython.core.display.HTML object>"
      ]
     },
     "metadata": {},
     "output_type": "display_data"
    },
    {
     "data": {
      "text/html": [],
      "text/plain": [
       "<IPython.core.display.HTML object>"
      ]
     },
     "metadata": {},
     "output_type": "display_data"
    },
    {
     "data": {
      "text/html": [],
      "text/plain": [
       "<IPython.core.display.HTML object>"
      ]
     },
     "metadata": {},
     "output_type": "display_data"
    },
    {
     "data": {
      "text/html": [],
      "text/plain": [
       "<IPython.core.display.HTML object>"
      ]
     },
     "metadata": {},
     "output_type": "display_data"
    },
    {
     "data": {
      "text/html": [],
      "text/plain": [
       "<IPython.core.display.HTML object>"
      ]
     },
     "metadata": {},
     "output_type": "display_data"
    },
    {
     "data": {
      "text/html": [],
      "text/plain": [
       "<IPython.core.display.HTML object>"
      ]
     },
     "metadata": {},
     "output_type": "display_data"
    },
    {
     "data": {
      "text/html": [],
      "text/plain": [
       "<IPython.core.display.HTML object>"
      ]
     },
     "metadata": {},
     "output_type": "display_data"
    },
    {
     "data": {
      "text/html": [],
      "text/plain": [
       "<IPython.core.display.HTML object>"
      ]
     },
     "metadata": {},
     "output_type": "display_data"
    },
    {
     "data": {
      "text/html": [],
      "text/plain": [
       "<IPython.core.display.HTML object>"
      ]
     },
     "metadata": {},
     "output_type": "display_data"
    },
    {
     "data": {
      "text/html": [],
      "text/plain": [
       "<IPython.core.display.HTML object>"
      ]
     },
     "metadata": {},
     "output_type": "display_data"
    },
    {
     "data": {
      "text/html": [],
      "text/plain": [
       "<IPython.core.display.HTML object>"
      ]
     },
     "metadata": {},
     "output_type": "display_data"
    }
   ],
   "source": [
    "df_train, df_val = train_test_split(df, test_size=20)\n",
    "learn_image_ac = load_learner('../models/learn_image_ac_500.pkl')\n",
    "learn_image_doom = load_learner('../models/learn_image_doom_500.pkl')\n",
    "r = test_models(df_val, learn_image_ac, learn_image_doom, None, None)"
   ]
  },
  {
   "cell_type": "code",
   "execution_count": 89,
   "metadata": {},
   "outputs": [
    {
     "data": {
      "text/html": [],
      "text/plain": [
       "<IPython.core.display.HTML object>"
      ]
     },
     "metadata": {},
     "output_type": "display_data"
    },
    {
     "data": {
      "text/html": [],
      "text/plain": [
       "<IPython.core.display.HTML object>"
      ]
     },
     "metadata": {},
     "output_type": "display_data"
    },
    {
     "data": {
      "text/html": [],
      "text/plain": [
       "<IPython.core.display.HTML object>"
      ]
     },
     "metadata": {},
     "output_type": "display_data"
    },
    {
     "data": {
      "text/html": [],
      "text/plain": [
       "<IPython.core.display.HTML object>"
      ]
     },
     "metadata": {},
     "output_type": "display_data"
    },
    {
     "data": {
      "text/html": [],
      "text/plain": [
       "<IPython.core.display.HTML object>"
      ]
     },
     "metadata": {},
     "output_type": "display_data"
    },
    {
     "data": {
      "text/html": [],
      "text/plain": [
       "<IPython.core.display.HTML object>"
      ]
     },
     "metadata": {},
     "output_type": "display_data"
    },
    {
     "data": {
      "text/html": [],
      "text/plain": [
       "<IPython.core.display.HTML object>"
      ]
     },
     "metadata": {},
     "output_type": "display_data"
    },
    {
     "data": {
      "text/html": [],
      "text/plain": [
       "<IPython.core.display.HTML object>"
      ]
     },
     "metadata": {},
     "output_type": "display_data"
    },
    {
     "data": {
      "text/html": [],
      "text/plain": [
       "<IPython.core.display.HTML object>"
      ]
     },
     "metadata": {},
     "output_type": "display_data"
    },
    {
     "data": {
      "text/html": [],
      "text/plain": [
       "<IPython.core.display.HTML object>"
      ]
     },
     "metadata": {},
     "output_type": "display_data"
    },
    {
     "data": {
      "text/html": [],
      "text/plain": [
       "<IPython.core.display.HTML object>"
      ]
     },
     "metadata": {},
     "output_type": "display_data"
    },
    {
     "data": {
      "text/html": [],
      "text/plain": [
       "<IPython.core.display.HTML object>"
      ]
     },
     "metadata": {},
     "output_type": "display_data"
    },
    {
     "data": {
      "text/html": [],
      "text/plain": [
       "<IPython.core.display.HTML object>"
      ]
     },
     "metadata": {},
     "output_type": "display_data"
    },
    {
     "data": {
      "text/html": [],
      "text/plain": [
       "<IPython.core.display.HTML object>"
      ]
     },
     "metadata": {},
     "output_type": "display_data"
    },
    {
     "data": {
      "text/html": [],
      "text/plain": [
       "<IPython.core.display.HTML object>"
      ]
     },
     "metadata": {},
     "output_type": "display_data"
    },
    {
     "data": {
      "text/html": [],
      "text/plain": [
       "<IPython.core.display.HTML object>"
      ]
     },
     "metadata": {},
     "output_type": "display_data"
    },
    {
     "data": {
      "text/html": [],
      "text/plain": [
       "<IPython.core.display.HTML object>"
      ]
     },
     "metadata": {},
     "output_type": "display_data"
    },
    {
     "data": {
      "text/html": [],
      "text/plain": [
       "<IPython.core.display.HTML object>"
      ]
     },
     "metadata": {},
     "output_type": "display_data"
    },
    {
     "data": {
      "text/html": [],
      "text/plain": [
       "<IPython.core.display.HTML object>"
      ]
     },
     "metadata": {},
     "output_type": "display_data"
    },
    {
     "data": {
      "text/html": [],
      "text/plain": [
       "<IPython.core.display.HTML object>"
      ]
     },
     "metadata": {},
     "output_type": "display_data"
    },
    {
     "data": {
      "text/html": [],
      "text/plain": [
       "<IPython.core.display.HTML object>"
      ]
     },
     "metadata": {},
     "output_type": "display_data"
    },
    {
     "data": {
      "text/html": [],
      "text/plain": [
       "<IPython.core.display.HTML object>"
      ]
     },
     "metadata": {},
     "output_type": "display_data"
    },
    {
     "data": {
      "text/html": [],
      "text/plain": [
       "<IPython.core.display.HTML object>"
      ]
     },
     "metadata": {},
     "output_type": "display_data"
    },
    {
     "data": {
      "text/html": [],
      "text/plain": [
       "<IPython.core.display.HTML object>"
      ]
     },
     "metadata": {},
     "output_type": "display_data"
    },
    {
     "data": {
      "text/html": [],
      "text/plain": [
       "<IPython.core.display.HTML object>"
      ]
     },
     "metadata": {},
     "output_type": "display_data"
    },
    {
     "data": {
      "text/html": [],
      "text/plain": [
       "<IPython.core.display.HTML object>"
      ]
     },
     "metadata": {},
     "output_type": "display_data"
    },
    {
     "data": {
      "text/html": [],
      "text/plain": [
       "<IPython.core.display.HTML object>"
      ]
     },
     "metadata": {},
     "output_type": "display_data"
    },
    {
     "data": {
      "text/html": [],
      "text/plain": [
       "<IPython.core.display.HTML object>"
      ]
     },
     "metadata": {},
     "output_type": "display_data"
    },
    {
     "data": {
      "text/html": [],
      "text/plain": [
       "<IPython.core.display.HTML object>"
      ]
     },
     "metadata": {},
     "output_type": "display_data"
    },
    {
     "data": {
      "text/html": [],
      "text/plain": [
       "<IPython.core.display.HTML object>"
      ]
     },
     "metadata": {},
     "output_type": "display_data"
    },
    {
     "data": {
      "text/html": [],
      "text/plain": [
       "<IPython.core.display.HTML object>"
      ]
     },
     "metadata": {},
     "output_type": "display_data"
    },
    {
     "data": {
      "text/html": [],
      "text/plain": [
       "<IPython.core.display.HTML object>"
      ]
     },
     "metadata": {},
     "output_type": "display_data"
    },
    {
     "data": {
      "text/html": [],
      "text/plain": [
       "<IPython.core.display.HTML object>"
      ]
     },
     "metadata": {},
     "output_type": "display_data"
    },
    {
     "data": {
      "text/html": [],
      "text/plain": [
       "<IPython.core.display.HTML object>"
      ]
     },
     "metadata": {},
     "output_type": "display_data"
    },
    {
     "data": {
      "text/html": [],
      "text/plain": [
       "<IPython.core.display.HTML object>"
      ]
     },
     "metadata": {},
     "output_type": "display_data"
    },
    {
     "data": {
      "text/html": [],
      "text/plain": [
       "<IPython.core.display.HTML object>"
      ]
     },
     "metadata": {},
     "output_type": "display_data"
    },
    {
     "data": {
      "text/html": [],
      "text/plain": [
       "<IPython.core.display.HTML object>"
      ]
     },
     "metadata": {},
     "output_type": "display_data"
    },
    {
     "data": {
      "text/html": [],
      "text/plain": [
       "<IPython.core.display.HTML object>"
      ]
     },
     "metadata": {},
     "output_type": "display_data"
    },
    {
     "data": {
      "text/html": [],
      "text/plain": [
       "<IPython.core.display.HTML object>"
      ]
     },
     "metadata": {},
     "output_type": "display_data"
    },
    {
     "data": {
      "text/html": [],
      "text/plain": [
       "<IPython.core.display.HTML object>"
      ]
     },
     "metadata": {},
     "output_type": "display_data"
    }
   ],
   "source": [
    "def asdf(models, p, df_val, N=10):\n",
    "    aux = df_val.iloc[:N].copy()\n",
    "    images_test, text_test = get_sets(aux)\n",
    "    result = []\n",
    "    result.append((images_test['path'].apply(lambda p: os.path.join(IMAGES_PATH, p)).apply(models[0].predict).apply(itemgetter(0)).apply(lambda s: s=='True') * 2 - 1) * p[0])\n",
    "    result.append((images_test['path'].apply(lambda p: os.path.join(IMAGES_PATH, p)).apply(models[1].predict).apply(itemgetter(0)).apply(lambda s: s=='True') * 2 - 1) * p[1])\n",
    "    for i in [2, 3]:\n",
    "        label = 'ac' if i == 2 else 'doom'\n",
    "        with torch.no_grad():\n",
    "            test_dataset = TextDataset(text_test, 'ac', labeled=False)\n",
    "            test_dataloader = DataLoader(\n",
    "                test_dataset,\n",
    "                batch_size=len(test_dataset) \n",
    "            )\n",
    "            batch = list(test_dataloader)[0]\n",
    "            out_ = models[i](\n",
    "                batch['input_ids'].to(device),\n",
    "                attention_mask=batch['attention_mask'].to(device),\n",
    "                token_type_ids=None\n",
    "            )\n",
    "            r = out_[0].numpy().argmax(axis=1)\n",
    "            r = pd.Series(result, aux.index).apply(bool)\n",
    "            r = (r * 2 - 1) * p[i] \n",
    "            results.append(r)\n",
    "    results = (aux[0] + aux[2] - (aux[1] + aux[3])).apply(lambda i: i < 0)\n",
    "    aux['ac'] = results\n",
    "    aux['doom'] = results\n",
    "    return aux\n",
    "\n",
    "aux = asdf([None, learn_image_doom], [0, 0.2], df_val, N=20)"
   ]
  },
  {
   "cell_type": "code",
   "execution_count": 92,
   "metadata": {},
   "outputs": [
    {
     "data": {
      "text/plain": [
       "301      True\n",
       "901     False\n",
       "1343    False\n",
       "1122    False\n",
       "1019    False\n",
       "748      True\n",
       "403      True\n",
       "514      True\n",
       "1240    False\n",
       "1433    False\n",
       "998     False\n",
       "1497    False\n",
       "778     False\n",
       "1091    False\n",
       "1432    False\n",
       "993     False\n",
       "392      True\n",
       "491      True\n",
       "1128    False\n",
       "620     False\n",
       "Name: path, dtype: bool"
      ]
     },
     "execution_count": 92,
     "metadata": {},
     "output_type": "execute_result"
    }
   ],
   "source": [
    "(aux[0] + aux[1]).apply(lambda i: i < 0)"
   ]
  },
  {
   "cell_type": "code",
   "execution_count": null,
   "metadata": {},
   "outputs": [],
   "source": []
  },
  {
   "cell_type": "code",
   "execution_count": null,
   "metadata": {},
   "outputs": [],
   "source": []
  },
  {
   "cell_type": "code",
   "execution_count": null,
   "metadata": {},
   "outputs": [],
   "source": []
  },
  {
   "cell_type": "code",
   "execution_count": null,
   "metadata": {},
   "outputs": [],
   "source": []
  }
 ],
 "metadata": {
  "kernelspec": {
   "display_name": "Python 3",
   "language": "python",
   "name": "python3"
  },
  "language_info": {
   "codemirror_mode": {
    "name": "ipython",
    "version": 3
   },
   "file_extension": ".py",
   "mimetype": "text/x-python",
   "name": "python",
   "nbconvert_exporter": "python",
   "pygments_lexer": "ipython3",
   "version": "3.6.8"
  }
 },
 "nbformat": 4,
 "nbformat_minor": 4
}
